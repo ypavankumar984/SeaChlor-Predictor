{
 "cells": [
  {
   "cell_type": "code",
   "execution_count": 2,
   "id": "d5453e22-2d0b-4a2d-a6dd-e50133628e24",
   "metadata": {},
   "outputs": [
    {
     "name": "stdout",
     "output_type": "stream",
     "text": [
      "Variables and their dimensions:\n",
      "chlor_a: (4320, 8640)\n",
      "lat: (4320,)\n",
      "lon: (8640,)\n",
      "palette: (3, 256)\n",
      "\n",
      "Data in the file:\n",
      "\n",
      "Variable: chlor_a\n",
      "[[-- -- -- ... -- -- --]\n",
      " [-- -- -- ... -- -- --]\n",
      " [-- -- -- ... -- -- --]\n",
      " ...\n",
      " [-- -- -- ... -- -- --]\n",
      " [-- -- -- ... -- -- --]\n",
      " [-- -- -- ... -- -- --]]\n",
      "\n",
      "Variable: lat\n",
      "[ 89.979164  89.9375    89.895836 ... -89.895836 -89.93751  -89.97917 ]\n",
      "\n",
      "Variable: lon\n",
      "[-179.97917 -179.9375  -179.89583 ...  179.89584  179.93752  179.97917]\n",
      "\n",
      "Variable: palette\n",
      "[[147 0 108 144 0 111 141 0 114 138 0 117 135 0 120 132 0 123 129 0 126\n",
      "  126 0 129 123 0 132 120 0 135 117 0 138 114 0 141 111 0 144 108 0 147\n",
      "  105 0 150 102 0 153 99 0 -- 0 106 -- 0 112 -- 0 117 -- 0 122 -- 0 128\n",
      "  -- 0 133 -- 0 138 -- 0 144 -- 0 149 -- 0 154 -- 0 160 -- 0 165 -- 0 170\n",
      "  -- 0 176 -- 0 181 -- 0 186 -- 0]\n",
      " [192 -- 0 197 -- 0 202 -- 0 208 -- 0 213 -- 0 218 -- 0 224 -- 0 229 -- 0\n",
      "  234 -- 0 240 -- 0 245 -- 0 250 -- 0 -- -- 0 -- 247 0 -- 239 0 -- 231 0\n",
      "  -- 223 208 -- 0 216 -- 0 224 -- 0 232 -- 0 240 -- 0 248 -- 0 -- -- 0 --\n",
      "  251 0 -- 247 0 -- 243 0 -- 239 0 -- 235 0 -- 231 0 -- 227 0 -- 223 0 --\n",
      "  219 0 -- 215]\n",
      " [0 -- 211 0 -- 207 0 -- 203 0 -- 199 0 -- 195 0 -- 191 0 -- 187 0 -- 183\n",
      "  0 -- 179 0 -- 175 0 -- 171 0 -- 167 0 -- 163 0 -- 159 0 -- 155 0 -- 151\n",
      "  0 -- 0 0 175 0 0 170 0 0 165 0 0 160 0 0 155 0 0 150 0 0 145 0 0 140 0\n",
      "  0 135 0 0 130 0 0 125 0 0 120 0 0 115 0 0 110 0 0 105 0 0 0 0 0]]\n"
     ]
    }
   ],
   "source": [
    "import netCDF4 as nc\n",
    "\n",
    "file_path = 'AQUA_MODIS.20040101_20041231.L3m.YR.CHL.chlor_a.4km.nc'\n",
    "\n",
    "dataset = nc.Dataset(file_path, 'r')\n",
    "\n",
    "print(\"Variables and their dimensions:\")\n",
    "for var_name in dataset.variables.keys():\n",
    "    var = dataset.variables[var_name]\n",
    "    print(f\"{var_name}: {var.shape}\")\n",
    "\n",
    "print(\"\\nData in the file:\")\n",
    "for var_name in dataset.variables.keys():\n",
    "    var = dataset.variables[var_name]\n",
    "    print(f\"\\nVariable: {var_name}\")\n",
    "    print(var[:])\n",
    "\n",
    "dataset.close()\n"
   ]
  },
  {
   "cell_type": "code",
   "execution_count": 3,
   "id": "6f370f6a-60e6-4af0-b21d-b901ae55cf94",
   "metadata": {},
   "outputs": [],
   "source": [
    "import pandas as pd\n",
    "\n",
    "file_path = 'AQUA_MODIS.20040101_20041231.L3m.YR.CHL.chlor_a.4km.nc'\n",
    "output_csv = 'output.csv'\n",
    "\n",
    "dataset = nc.Dataset(file_path, 'r')\n",
    "\n",
    "latitudes = dataset.variables['lat'][:]\n",
    "longitudes = dataset.variables['lon'][:]\n",
    "chlorophyll = dataset.variables['chlor_a'][:]\n",
    "\n",
    "dataset.close()"
   ]
  },
  {
   "cell_type": "code",
   "execution_count": 4,
   "id": "f4381589-33e8-4b8f-b04c-306ab0c9fb86",
   "metadata": {},
   "outputs": [
    {
     "name": "stdout",
     "output_type": "stream",
     "text": [
      "Data has been successfully converted to output.csv\n"
     ]
    }
   ],
   "source": [
    "import numpy as np\n",
    "# Use meshgrid to create pairs of latitudes and longitudes\n",
    "lon_grid, lat_grid = np.meshgrid(longitudes, latitudes)\n",
    "fill_value=-32767.0\n",
    "\n",
    "lat_flat = lat_grid.flatten()\n",
    "lon_flat = lon_grid.flatten()\n",
    "chlorophyll = np.where(chlorophyll == fill_value, np.nan,chlorophyll)\n",
    "chlorophyll_flat = chlorophyll.flatten()\n",
    "\n",
    "df = pd.DataFrame({\n",
    "    'Latitude': lat_flat,\n",
    "    'Longitude': lon_flat,\n",
    "    'Chlorophyll': chlorophyll_flat\n",
    "})\n",
    "\n",
    "df.to_csv(output_csv, index=False)\n",
    "\n",
    "print(f\"Data has been successfully converted to {output_csv}\")"
   ]
  },
  {
   "cell_type": "code",
   "execution_count": null,
   "id": "3edcead7-6369-4296-98f3-3186fe122391",
   "metadata": {},
   "outputs": [],
   "source": [
    "dataset=pd.read_csv('output.csv')"
   ]
  },
  {
   "cell_type": "code",
   "execution_count": 21,
   "id": "fdbfd842-4df7-4648-b99d-c6f03920b768",
   "metadata": {},
   "outputs": [
    {
     "data": {
      "text/html": [
       "<div>\n",
       "<style scoped>\n",
       "    .dataframe tbody tr th:only-of-type {\n",
       "        vertical-align: middle;\n",
       "    }\n",
       "\n",
       "    .dataframe tbody tr th {\n",
       "        vertical-align: top;\n",
       "    }\n",
       "\n",
       "    .dataframe thead th {\n",
       "        text-align: right;\n",
       "    }\n",
       "</style>\n",
       "<table border=\"1\" class=\"dataframe\">\n",
       "  <thead>\n",
       "    <tr style=\"text-align: right;\">\n",
       "      <th></th>\n",
       "      <th>Latitude</th>\n",
       "      <th>Longitude</th>\n",
       "      <th>Chlorophyll</th>\n",
       "    </tr>\n",
       "  </thead>\n",
       "  <tbody>\n",
       "    <tr>\n",
       "      <th>1195213</th>\n",
       "      <td>84.229164</td>\n",
       "      <td>-59.437496</td>\n",
       "      <td>0.013342</td>\n",
       "    </tr>\n",
       "    <tr>\n",
       "      <th>1195214</th>\n",
       "      <td>84.229164</td>\n",
       "      <td>-59.395830</td>\n",
       "      <td>0.013342</td>\n",
       "    </tr>\n",
       "    <tr>\n",
       "      <th>1195215</th>\n",
       "      <td>84.229164</td>\n",
       "      <td>-59.354164</td>\n",
       "      <td>0.013342</td>\n",
       "    </tr>\n",
       "    <tr>\n",
       "      <th>1195216</th>\n",
       "      <td>84.229164</td>\n",
       "      <td>-59.312496</td>\n",
       "      <td>0.013342</td>\n",
       "    </tr>\n",
       "    <tr>\n",
       "      <th>1195217</th>\n",
       "      <td>84.229164</td>\n",
       "      <td>-59.270830</td>\n",
       "      <td>0.013342</td>\n",
       "    </tr>\n",
       "    <tr>\n",
       "      <th>...</th>\n",
       "      <td>...</td>\n",
       "      <td>...</td>\n",
       "      <td>...</td>\n",
       "    </tr>\n",
       "    <tr>\n",
       "      <th>34957844</th>\n",
       "      <td>-78.604170</td>\n",
       "      <td>-163.145830</td>\n",
       "      <td>0.139341</td>\n",
       "    </tr>\n",
       "    <tr>\n",
       "      <th>34957845</th>\n",
       "      <td>-78.604170</td>\n",
       "      <td>-163.104170</td>\n",
       "      <td>0.136865</td>\n",
       "    </tr>\n",
       "    <tr>\n",
       "      <th>34957846</th>\n",
       "      <td>-78.604170</td>\n",
       "      <td>-163.062500</td>\n",
       "      <td>0.136865</td>\n",
       "    </tr>\n",
       "    <tr>\n",
       "      <th>34957847</th>\n",
       "      <td>-78.604170</td>\n",
       "      <td>-163.020830</td>\n",
       "      <td>0.136865</td>\n",
       "    </tr>\n",
       "    <tr>\n",
       "      <th>34957848</th>\n",
       "      <td>-78.604170</td>\n",
       "      <td>-162.979170</td>\n",
       "      <td>0.136865</td>\n",
       "    </tr>\n",
       "  </tbody>\n",
       "</table>\n",
       "<p>22158616 rows × 3 columns</p>\n",
       "</div>"
      ],
      "text/plain": [
       "           Latitude   Longitude  Chlorophyll\n",
       "1195213   84.229164  -59.437496     0.013342\n",
       "1195214   84.229164  -59.395830     0.013342\n",
       "1195215   84.229164  -59.354164     0.013342\n",
       "1195216   84.229164  -59.312496     0.013342\n",
       "1195217   84.229164  -59.270830     0.013342\n",
       "...             ...         ...          ...\n",
       "34957844 -78.604170 -163.145830     0.139341\n",
       "34957845 -78.604170 -163.104170     0.136865\n",
       "34957846 -78.604170 -163.062500     0.136865\n",
       "34957847 -78.604170 -163.020830     0.136865\n",
       "34957848 -78.604170 -162.979170     0.136865\n",
       "\n",
       "[22158616 rows x 3 columns]"
      ]
     },
     "execution_count": 21,
     "metadata": {},
     "output_type": "execute_result"
    }
   ],
   "source": [
    "dataset.dropna()"
   ]
  },
  {
   "cell_type": "code",
   "execution_count": 22,
   "id": "d7764ee4-dc34-43de-a5af-6f54cc761a4d",
   "metadata": {},
   "outputs": [
    {
     "data": {
      "text/html": [
       "<div>\n",
       "<style scoped>\n",
       "    .dataframe tbody tr th:only-of-type {\n",
       "        vertical-align: middle;\n",
       "    }\n",
       "\n",
       "    .dataframe tbody tr th {\n",
       "        vertical-align: top;\n",
       "    }\n",
       "\n",
       "    .dataframe thead th {\n",
       "        text-align: right;\n",
       "    }\n",
       "</style>\n",
       "<table border=\"1\" class=\"dataframe\">\n",
       "  <thead>\n",
       "    <tr style=\"text-align: right;\">\n",
       "      <th></th>\n",
       "      <th>Latitude</th>\n",
       "      <th>Longitude</th>\n",
       "      <th>Chlorophyll</th>\n",
       "    </tr>\n",
       "  </thead>\n",
       "  <tbody>\n",
       "    <tr>\n",
       "      <th>0</th>\n",
       "      <td>89.979164</td>\n",
       "      <td>-179.97917</td>\n",
       "      <td>NaN</td>\n",
       "    </tr>\n",
       "    <tr>\n",
       "      <th>1</th>\n",
       "      <td>89.979164</td>\n",
       "      <td>-179.93750</td>\n",
       "      <td>NaN</td>\n",
       "    </tr>\n",
       "    <tr>\n",
       "      <th>2</th>\n",
       "      <td>89.979164</td>\n",
       "      <td>-179.89583</td>\n",
       "      <td>NaN</td>\n",
       "    </tr>\n",
       "    <tr>\n",
       "      <th>3</th>\n",
       "      <td>89.979164</td>\n",
       "      <td>-179.85417</td>\n",
       "      <td>NaN</td>\n",
       "    </tr>\n",
       "    <tr>\n",
       "      <th>4</th>\n",
       "      <td>89.979164</td>\n",
       "      <td>-179.81250</td>\n",
       "      <td>NaN</td>\n",
       "    </tr>\n",
       "  </tbody>\n",
       "</table>\n",
       "</div>"
      ],
      "text/plain": [
       "    Latitude  Longitude  Chlorophyll\n",
       "0  89.979164 -179.97917          NaN\n",
       "1  89.979164 -179.93750          NaN\n",
       "2  89.979164 -179.89583          NaN\n",
       "3  89.979164 -179.85417          NaN\n",
       "4  89.979164 -179.81250          NaN"
      ]
     },
     "execution_count": 22,
     "metadata": {},
     "output_type": "execute_result"
    }
   ],
   "source": [
    "dataset.head()"
   ]
  },
  {
   "cell_type": "code",
   "execution_count": 10,
   "id": "6aea9adc-fe62-4033-9a12-aeb180a36c89",
   "metadata": {},
   "outputs": [
    {
     "data": {
      "text/plain": [
       "[89.979164, -179.9375, masked]"
      ]
     },
     "execution_count": 10,
     "metadata": {},
     "output_type": "execute_result"
    }
   ],
   "source": [
    "data[1]"
   ]
  },
  {
   "cell_type": "code",
   "execution_count": 9,
   "id": "dcf1b72f-7b6f-4e86-87e9-e7524cf81c8e",
   "metadata": {},
   "outputs": [
    {
     "name": "stdout",
     "output_type": "stream",
     "text": [
      "[[-- -- -- ... -- -- --]\n",
      " [-- -- -- ... -- -- --]\n",
      " [-- -- -- ... -- -- --]\n",
      " ...\n",
      " [-- -- -- ... -- -- --]\n",
      " [-- -- -- ... -- -- --]\n",
      " [-- -- -- ... -- -- --]]\n",
      "[-32767. -32767. -32767. ... -32767. -32767. -32767.]\n",
      "[-32767. -32767. -32767. ... -32767. -32767. -32767.]\n"
     ]
    }
   ],
   "source": [
    "file_path = 'AQUA_MODIS.20040101_20041231.L3m.YR.CHL.chlor_a.4km.nc'\n",
    "\n",
    "dataset = nc.Dataset(file_path, 'r')\n",
    "fill_value=-32767.0\n",
    "latitudes = dataset.variables['lat'][:]\n",
    "longitudes = dataset.variables['lon'][:]\n",
    "chlorophyll = dataset.variables['chlor_a'][:]\n",
    "print(chlorophyll)\n",
    "chlorophyll = np.where(chlorophyll == fill_value, np.nan,chlorophyll)\n",
    "print(chlorophyll_flat)\n",
    "print(chlorophyll_flat[~np.isnan(chlorophyll_flat)])"
   ]
  },
  {
   "cell_type": "code",
   "execution_count": 20,
   "id": "6614bdfc-cf85-4ef9-ad51-c1060a6988b8",
   "metadata": {},
   "outputs": [
    {
     "name": "stdout",
     "output_type": "stream",
     "text": [
      "Original Chlorophyll Data:\n",
      "[[-32767. -32767. -32767. ... -32767. -32767. -32767.]\n",
      " [-32767. -32767. -32767. ... -32767. -32767. -32767.]\n",
      " [-32767. -32767. -32767. ... -32767. -32767. -32767.]\n",
      " ...\n",
      " [-32767. -32767. -32767. ... -32767. -32767. -32767.]\n",
      " [-32767. -32767. -32767. ... -32767. -32767. -32767.]\n",
      " [-32767. -32767. -32767. ... -32767. -32767. -32767.]]\n",
      "True\n",
      "False\n",
      "Flattened Chlorophyll Data:\n",
      "[nan nan nan ... nan nan nan]\n",
      "Non-NaN Chlorophyll Values:\n",
      "[0.01334156 0.01334155 0.01334155 ... 0.13686493 0.13686493 0.13686493]\n"
     ]
    }
   ],
   "source": [
    "import netCDF4 as nc\n",
    "import numpy as np\n",
    "\n",
    "file_path = 'AQUA_MODIS.20040101_20041231.L3m.YR.CHL.chlor_a.4km.nc'\n",
    "\n",
    "dataset = nc.Dataset(file_path, 'r')\n",
    "fill_value = -32767.0\n",
    "\n",
    "latitudes = dataset.variables['lat'][:]\n",
    "longitudes = dataset.variables['lon'][:]\n",
    "chlorophyll = np.array(dataset.variables['chlor_a'][:])\n",
    "\n",
    "print(\"Original Chlorophyll Data:\")\n",
    "print(chlorophyll)\n",
    "\n",
    "print(np.any(chlorophyll == fill_value))\n",
    "\n",
    "chlorophyll = np.where(chlorophyll == fill_value, np.nan, chlorophyll)\n",
    "\n",
    "print(np.any(chlorophyll == fill_value))\n",
    "#chlorophyll = np.where(chlorophyll == fill_value, np.nan, chlorophyll)\n",
    "#print(np.any(chlorophyll == fill_value))\n",
    "chlorophyll_flat = chlorophyll.flatten()\n",
    "\n",
    "print(\"Flattened Chlorophyll Data:\")\n",
    "print(chlorophyll_flat)\n",
    "\n",
    "print(\"Non-NaN Chlorophyll Values:\")\n",
    "print(chlorophyll_flat[~np.isnan(chlorophyll_flat)])\n"
   ]
  }
 ],
 "metadata": {
  "kernelspec": {
   "display_name": "Python 3 (ipykernel)",
   "language": "python",
   "name": "python3"
  },
  "language_info": {
   "codemirror_mode": {
    "name": "ipython",
    "version": 3
   },
   "file_extension": ".py",
   "mimetype": "text/x-python",
   "name": "python",
   "nbconvert_exporter": "python",
   "pygments_lexer": "ipython3",
   "version": "3.12.6"
  }
 },
 "nbformat": 4,
 "nbformat_minor": 5
}
